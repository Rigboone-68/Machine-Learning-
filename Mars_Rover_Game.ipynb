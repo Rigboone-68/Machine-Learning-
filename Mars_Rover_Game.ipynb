{
  "nbformat": 4,
  "nbformat_minor": 0,
  "metadata": {
    "colab": {
      "provenance": [],
      "authorship_tag": "ABX9TyPnLE2YPnWAp83pqW5ETYJ/",
      "include_colab_link": true
    },
    "kernelspec": {
      "name": "python3",
      "display_name": "Python 3"
    },
    "language_info": {
      "name": "python"
    }
  },
  "cells": [
    {
      "cell_type": "markdown",
      "metadata": {
        "id": "view-in-github",
        "colab_type": "text"
      },
      "source": [
        "<a href=\"https://colab.research.google.com/github/Rigboone-68/Machine-Learning-/blob/main/Mars_Rover_Game.ipynb\" target=\"_parent\"><img src=\"https://colab.research.google.com/assets/colab-badge.svg\" alt=\"Open In Colab\"/></a>"
      ]
    },
    {
      "cell_type": "code",
      "execution_count": null,
      "metadata": {
        "id": "hRpwtznf7FxZ"
      },
      "outputs": [],
      "source": [
        "import pygame\n",
        "import numpy as np\n",
        "\n",
        "# Initialize Pygame\n",
        "pygame.init()\n",
        "\n",
        "# Game parameters\n",
        "WIDTH, HEIGHT = 800, 600\n",
        "FPS = 60\n",
        "ROVER_SIZE = 30\n",
        "INITIAL_POSITION = np.array([WIDTH // 2, HEIGHT // 2], dtype=float)\n",
        "INITIAL_ORIENTATION = 0.0\n",
        "MOVE_SPEED = 5.0\n",
        "TURN_SPEED = 5.0\n",
        "\n",
        "# Define colors\n",
        "WHITE = (255, 255, 255)\n",
        "RED = (255, 0, 0)\n",
        "\n",
        "# Define the Mars Rover class\n",
        "class MarsRover:\n",
        "    def __init__(self):\n",
        "        self.position = np.copy(INITIAL_POSITION)\n",
        "        self.orientation = INITIAL_ORIENTATION\n",
        "\n",
        "    def move_forward(self):\n",
        "        delta_x = MOVE_SPEED * np.cos(self.orientation)\n",
        "        delta_y = MOVE_SPEED * np.sin(self.orientation)\n",
        "        self.position += np.array([delta_x, delta_y])\n",
        "\n",
        "    def turn(self, angle):\n",
        "        self.orientation += np.radians(angle)\n",
        "\n",
        "# Create the game window\n",
        "screen = pygame.display.set_mode((WIDTH, HEIGHT))\n",
        "pygame.display.set_caption(\"Mars Rover Navigation Game\")\n",
        "clock = pygame.time.Clock()\n",
        "\n",
        "# Create the Mars Rover\n",
        "rover = MarsRover()\n",
        "\n",
        "# Game loop\n",
        "running = True\n",
        "while running:\n",
        "    for event in pygame.event.get():\n",
        "        if event.type == pygame.QUIT:\n",
        "            running = False\n",
        "\n",
        "    # Move the rover based on keyboard input\n",
        "    keys = pygame.key.get_pressed()\n",
        "    if keys[pygame.K_UP]:\n",
        "        rover.move_forward()\n",
        "    if keys[pygame.K_LEFT]:\n",
        "        rover.turn(TURN_SPEED)\n",
        "    if keys[pygame.K_RIGHT]:\n",
        "        rover.turn(-TURN_SPEED)\n",
        "\n",
        "    # Update the screen\n",
        "    screen.fill(WHITE)\n",
        "    pygame.draw.circle(screen, RED, rover.position.astype(int), ROVER_SIZE)\n",
        "\n",
        "    pygame.display.flip()\n",
        "    clock.tick(FPS)\n",
        "\n",
        "# Quit Pygame\n",
        "pygame.quit()\n"
      ]
    }
  ]
}