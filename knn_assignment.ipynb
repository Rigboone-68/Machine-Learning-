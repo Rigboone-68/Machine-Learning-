{
  "cells": [
    {
      "cell_type": "markdown",
      "metadata": {
        "id": "view-in-github",
        "colab_type": "text"
      },
      "source": [
        "<a href=\"https://colab.research.google.com/github/Rigboone-68/Machine-Learning-/blob/main/knn_assignment.ipynb\" target=\"_parent\"><img src=\"https://colab.research.google.com/assets/colab-badge.svg\" alt=\"Open In Colab\"/></a>"
      ]
    },
    {
      "cell_type": "markdown",
      "metadata": {
        "id": "0tY8NxejC0zL"
      },
      "source": [
        "# Assignment - Classification with K-NN"
      ]
    },
    {
      "cell_type": "markdown",
      "metadata": {
        "id": "vOjzvZnlC0zP"
      },
      "source": [
        "For this assignment, you will be using the Breast Cancer Wisconsin (Diagnostic) Database to create a classifier that can help diagnose patients. First, read through the description of the dataset (below)."
      ]
    },
    {
      "cell_type": "code",
      "execution_count": 11,
      "metadata": {
        "id": "roBmAyoPC0zQ"
      },
      "outputs": [],
      "source": [
        "import numpy as np\n",
        "import pandas as pd\n",
        "from sklearn.datasets import load_breast_cancer\n",
        "\n",
        "cancer = load_breast_cancer()\n",
        "\n",
        "#print(cancer.DESCR) # Print the data set description"
      ]
    },
    {
      "cell_type": "markdown",
      "metadata": {
        "id": "Yit6x07cC0zU"
      },
      "source": [
        "The object returned by `load_breast_cancer()` is a scikit-learn Bunch object, which is similar to a dictionary."
      ]
    },
    {
      "cell_type": "code",
      "execution_count": null,
      "metadata": {
        "id": "rvymyJuiC0zU"
      },
      "outputs": [],
      "source": [
        "cancer.keys()"
      ]
    },
    {
      "cell_type": "markdown",
      "metadata": {
        "id": "ToP0YvfiC0zV"
      },
      "source": [
        "### Question 0 (Example)\n",
        "\n",
        "How many features does the breast cancer dataset have?\n",
        "\n",
        "*This function should return an integer.*"
      ]
    },
    {
      "cell_type": "code",
      "execution_count": 9,
      "metadata": {
        "colab": {
          "base_uri": "https://localhost:8080/"
        },
        "id": "tFmCPmDmC0zV",
        "outputId": "c6795f90-df00-4dbd-f3ec-cef115d1dd13"
      },
      "outputs": [
        {
          "output_type": "stream",
          "name": "stdout",
          "text": [
            "30\n"
          ]
        }
      ],
      "source": [
        "from sklearn.datasets import load_breast_cancer\n",
        "\n",
        "# Load the breast cancer dataset\n",
        "cancer = load_breast_cancer()\n",
        "\n",
        "# Get the number of features\n",
        "num_features = cancer.data.shape[1]\n",
        "\n",
        "# Print the number of features\n",
        "print(num_features)\n"
      ]
    },
    {
      "cell_type": "markdown",
      "metadata": {
        "id": "tpQW9kdFC0zV"
      },
      "source": [
        "### Question 1\n",
        "\n",
        "Scikit-learn works with lists, numpy arrays, scipy-sparse matrices, and pandas DataFrames, so converting the dataset to a DataFrame is not necessary for training this model. Using a DataFrame does however help make many things easier such as munging data, so let's practice creating a classifier with a pandas DataFrame.\n",
        "\n",
        "\n",
        "\n",
        "Convert the sklearn.dataset `cancer` to a DataFrame.\n",
        "\n",
        "*This function should return a `(569, 31)` DataFrame with *\n",
        "\n",
        "*columns = *\n",
        "\n",
        "    ['mean radius', 'mean texture', 'mean perimeter', 'mean area',\n",
        "    'mean smoothness', 'mean compactness', 'mean concavity',\n",
        "    'mean concave points', 'mean symmetry', 'mean fractal dimension',\n",
        "    'radius error', 'texture error', 'perimeter error', 'area error',\n",
        "    'smoothness error', 'compactness error', 'concavity error',\n",
        "    'concave points error', 'symmetry error', 'fractal dimension error',\n",
        "    'worst radius', 'worst texture', 'worst perimeter', 'worst area',\n",
        "    'worst smoothness', 'worst compactness', 'worst concavity',\n",
        "    'worst concave points', 'worst symmetry', 'worst fractal dimension',\n",
        "    'target']\n",
        "\n",
        "*and index = *\n",
        "\n",
        "    RangeIndex(start=0, stop=569, step=1)"
      ]
    },
    {
      "cell_type": "code",
      "execution_count": 6,
      "metadata": {
        "colab": {
          "base_uri": "https://localhost:8080/"
        },
        "id": "lkUveS1MC0zW",
        "outputId": "3d6b3f30-fdf3-46b7-f898-5acd1318732e"
      },
      "outputs": [
        {
          "output_type": "stream",
          "name": "stdout",
          "text": [
            "   mean radius  mean texture  mean perimeter  mean area  mean smoothness  \\\n",
            "0        17.99         10.38          122.80     1001.0          0.11840   \n",
            "1        20.57         17.77          132.90     1326.0          0.08474   \n",
            "2        19.69         21.25          130.00     1203.0          0.10960   \n",
            "3        11.42         20.38           77.58      386.1          0.14250   \n",
            "4        20.29         14.34          135.10     1297.0          0.10030   \n",
            "\n",
            "   mean compactness  mean concavity  mean concave points  mean symmetry  \\\n",
            "0           0.27760          0.3001              0.14710         0.2419   \n",
            "1           0.07864          0.0869              0.07017         0.1812   \n",
            "2           0.15990          0.1974              0.12790         0.2069   \n",
            "3           0.28390          0.2414              0.10520         0.2597   \n",
            "4           0.13280          0.1980              0.10430         0.1809   \n",
            "\n",
            "   mean fractal dimension  ...  worst texture  worst perimeter  worst area  \\\n",
            "0                 0.07871  ...          17.33           184.60      2019.0   \n",
            "1                 0.05667  ...          23.41           158.80      1956.0   \n",
            "2                 0.05999  ...          25.53           152.50      1709.0   \n",
            "3                 0.09744  ...          26.50            98.87       567.7   \n",
            "4                 0.05883  ...          16.67           152.20      1575.0   \n",
            "\n",
            "   worst smoothness  worst compactness  worst concavity  worst concave points  \\\n",
            "0            0.1622             0.6656           0.7119                0.2654   \n",
            "1            0.1238             0.1866           0.2416                0.1860   \n",
            "2            0.1444             0.4245           0.4504                0.2430   \n",
            "3            0.2098             0.8663           0.6869                0.2575   \n",
            "4            0.1374             0.2050           0.4000                0.1625   \n",
            "\n",
            "   worst symmetry  worst fractal dimension  target  \n",
            "0          0.4601                  0.11890       0  \n",
            "1          0.2750                  0.08902       0  \n",
            "2          0.3613                  0.08758       0  \n",
            "3          0.6638                  0.17300       0  \n",
            "4          0.2364                  0.07678       0  \n",
            "\n",
            "[5 rows x 31 columns]\n"
          ]
        }
      ],
      "source": [
        "\n",
        "import pandas as pd\n",
        "from sklearn.datasets import load_breast_cancer\n",
        "\n",
        "def load_cancer_df():\n",
        "    # Load the breast cancer dataset from scikit-learn\n",
        "    cancer = load_breast_cancer()\n",
        "\n",
        "    # Create a DataFrame from the dataset\n",
        "    cancer_df = pd.DataFrame(data=cancer.data, columns=cancer.feature_names)\n",
        "\n",
        "    # Add the 'target' column to the DataFrame\n",
        "    cancer_df['target'] = cancer.target\n",
        "\n",
        "    return cancer_df\n",
        "\n",
        "# Call the function to load the dataset into a DataFrame\n",
        "cancer_df = load_cancer_df()\n",
        "\n",
        "# Display the first few rows of the DataFrame for visibility\n",
        "print(cancer_df.head())\n",
        "\n",
        "\n",
        "\n"
      ]
    },
    {
      "cell_type": "markdown",
      "metadata": {
        "id": "7KlTRnucC0zX"
      },
      "source": [
        "### Question 2\n",
        "What is the class distribution? (i.e. how many instances of `malignant` and how many `benign`?)\n",
        "\n",
        "*This function should return a Series named `target` of length 2 with integer values and index =* `['malignant', 'benign']`"
      ]
    },
    {
      "cell_type": "code",
      "execution_count": 7,
      "metadata": {
        "colab": {
          "base_uri": "https://localhost:8080/"
        },
        "id": "EKHUHt7cC0zX",
        "outputId": "519314ca-0ce4-44f2-f85d-6ee609eac9e8"
      },
      "outputs": [
        {
          "output_type": "stream",
          "name": "stdout",
          "text": [
            "malignant    357\n",
            "benign       212\n",
            "Name: target, dtype: int64\n"
          ]
        }
      ],
      "source": [
        "class_distribution = cancer_df['target'].value_counts()\n",
        "\n",
        "# Rename the index to 'malignant' and 'benign'\n",
        "class_distribution.index = ['malignant', 'benign']\n",
        "\n",
        "# Display the class distribution\n",
        "print(class_distribution)\n"
      ]
    },
    {
      "cell_type": "markdown",
      "metadata": {
        "id": "e25Y4RYpC0zY"
      },
      "source": [
        "### Question 3\n",
        "Split the DataFrame into `X` (the data) and `y` (the labels).\n",
        "\n",
        "*This function should return a tuple of length 2:* `(X, y)`*, where*\n",
        "* `X` *has shape* `(569, 30)`\n",
        "* `y` *has shape* `(569,)`."
      ]
    },
    {
      "cell_type": "code",
      "execution_count": 8,
      "metadata": {
        "colab": {
          "base_uri": "https://localhost:8080/"
        },
        "id": "HnMN9w7CC0zZ",
        "outputId": "bf18b75e-5e35-4f10-991b-2798c147db0a"
      },
      "outputs": [
        {
          "output_type": "stream",
          "name": "stdout",
          "text": [
            "X shape: (569, 30)\n",
            "y shape: (569,)\n"
          ]
        }
      ],
      "source": [
        "# Extract the features (X) and target (y) from the DataFrame\n",
        "X = cancer_df.drop('target', axis=1)  # Features (remove 'target' column)\n",
        "y = cancer_df['target']              # Target (labels)\n",
        "\n",
        "# Display the shapes of X and y\n",
        "print(\"X shape:\", X.shape)\n",
        "print(\"y shape:\", y.shape)\n"
      ]
    },
    {
      "cell_type": "markdown",
      "metadata": {
        "id": "SA3pJ1StC0zZ"
      },
      "source": [
        "### Question 4\n",
        "Using `train_test_split`, split `X` and `y` into training and test sets `(X_train, X_test, y_train, and y_test)`.\n",
        "\n",
        "*This function should return a tuple of length 4:* `(X_train, X_test, y_train, y_test)`*, where*\n",
        "* `X_train` *has shape* `(426, 30)`\n",
        "* `X_test` *has shape* `(143, 30)`\n",
        "* `y_train` *has shape* `(426,)`\n",
        "* `y_test` *has shape* `(143,)`"
      ]
    },
    {
      "cell_type": "code",
      "execution_count": 9,
      "metadata": {
        "colab": {
          "base_uri": "https://localhost:8080/"
        },
        "id": "4XQxWuiBC0za",
        "outputId": "1c988b1a-dd97-42a5-fee9-62ed1fc5d131"
      },
      "outputs": [
        {
          "output_type": "stream",
          "name": "stdout",
          "text": [
            "X_train shape: (426, 30)\n",
            "X_test shape: (143, 30)\n",
            "y_train shape: (426,)\n",
            "y_test shape: (143,)\n"
          ]
        }
      ],
      "source": [
        "from sklearn.model_selection import train_test_split\n",
        "\n",
        "# Split the data into training and test sets\n",
        "X_train, X_test, y_train, y_test = train_test_split(X, y, test_size=0.25, random_state=42)\n",
        "\n",
        "# Display the shapes of the resulting sets\n",
        "print(\"X_train shape:\", X_train.shape)\n",
        "print(\"X_test shape:\", X_test.shape)\n",
        "print(\"y_train shape:\", y_train.shape)\n",
        "print(\"y_test shape:\", y_test.shape)\n"
      ]
    },
    {
      "cell_type": "markdown",
      "metadata": {
        "id": "Ej8enVdpC0zb"
      },
      "source": [
        "### Question 5\n",
        "Using KNeighborsClassifier, fit a k-nearest neighbors (knn) classifier with `X_train`, `y_train` and using one nearest neighbor (`n_neighbors = 1`).\n",
        "\n",
        "*This function should return a * `sklearn.neighbors.classification.KNeighborsClassifier`."
      ]
    },
    {
      "cell_type": "code",
      "execution_count": 12,
      "metadata": {
        "colab": {
          "base_uri": "https://localhost:8080/",
          "height": 75
        },
        "id": "KscGdG3mC0zb",
        "outputId": "2af0cc37-4646-4c57-b091-bca65906952d"
      },
      "outputs": [
        {
          "output_type": "execute_result",
          "data": {
            "text/plain": [
              "KNeighborsClassifier(n_neighbors=1)"
            ],
            "text/html": [
              "<style>#sk-container-id-1 {color: black;background-color: white;}#sk-container-id-1 pre{padding: 0;}#sk-container-id-1 div.sk-toggleable {background-color: white;}#sk-container-id-1 label.sk-toggleable__label {cursor: pointer;display: block;width: 100%;margin-bottom: 0;padding: 0.3em;box-sizing: border-box;text-align: center;}#sk-container-id-1 label.sk-toggleable__label-arrow:before {content: \"▸\";float: left;margin-right: 0.25em;color: #696969;}#sk-container-id-1 label.sk-toggleable__label-arrow:hover:before {color: black;}#sk-container-id-1 div.sk-estimator:hover label.sk-toggleable__label-arrow:before {color: black;}#sk-container-id-1 div.sk-toggleable__content {max-height: 0;max-width: 0;overflow: hidden;text-align: left;background-color: #f0f8ff;}#sk-container-id-1 div.sk-toggleable__content pre {margin: 0.2em;color: black;border-radius: 0.25em;background-color: #f0f8ff;}#sk-container-id-1 input.sk-toggleable__control:checked~div.sk-toggleable__content {max-height: 200px;max-width: 100%;overflow: auto;}#sk-container-id-1 input.sk-toggleable__control:checked~label.sk-toggleable__label-arrow:before {content: \"▾\";}#sk-container-id-1 div.sk-estimator input.sk-toggleable__control:checked~label.sk-toggleable__label {background-color: #d4ebff;}#sk-container-id-1 div.sk-label input.sk-toggleable__control:checked~label.sk-toggleable__label {background-color: #d4ebff;}#sk-container-id-1 input.sk-hidden--visually {border: 0;clip: rect(1px 1px 1px 1px);clip: rect(1px, 1px, 1px, 1px);height: 1px;margin: -1px;overflow: hidden;padding: 0;position: absolute;width: 1px;}#sk-container-id-1 div.sk-estimator {font-family: monospace;background-color: #f0f8ff;border: 1px dotted black;border-radius: 0.25em;box-sizing: border-box;margin-bottom: 0.5em;}#sk-container-id-1 div.sk-estimator:hover {background-color: #d4ebff;}#sk-container-id-1 div.sk-parallel-item::after {content: \"\";width: 100%;border-bottom: 1px solid gray;flex-grow: 1;}#sk-container-id-1 div.sk-label:hover label.sk-toggleable__label {background-color: #d4ebff;}#sk-container-id-1 div.sk-serial::before {content: \"\";position: absolute;border-left: 1px solid gray;box-sizing: border-box;top: 0;bottom: 0;left: 50%;z-index: 0;}#sk-container-id-1 div.sk-serial {display: flex;flex-direction: column;align-items: center;background-color: white;padding-right: 0.2em;padding-left: 0.2em;position: relative;}#sk-container-id-1 div.sk-item {position: relative;z-index: 1;}#sk-container-id-1 div.sk-parallel {display: flex;align-items: stretch;justify-content: center;background-color: white;position: relative;}#sk-container-id-1 div.sk-item::before, #sk-container-id-1 div.sk-parallel-item::before {content: \"\";position: absolute;border-left: 1px solid gray;box-sizing: border-box;top: 0;bottom: 0;left: 50%;z-index: -1;}#sk-container-id-1 div.sk-parallel-item {display: flex;flex-direction: column;z-index: 1;position: relative;background-color: white;}#sk-container-id-1 div.sk-parallel-item:first-child::after {align-self: flex-end;width: 50%;}#sk-container-id-1 div.sk-parallel-item:last-child::after {align-self: flex-start;width: 50%;}#sk-container-id-1 div.sk-parallel-item:only-child::after {width: 0;}#sk-container-id-1 div.sk-dashed-wrapped {border: 1px dashed gray;margin: 0 0.4em 0.5em 0.4em;box-sizing: border-box;padding-bottom: 0.4em;background-color: white;}#sk-container-id-1 div.sk-label label {font-family: monospace;font-weight: bold;display: inline-block;line-height: 1.2em;}#sk-container-id-1 div.sk-label-container {text-align: center;}#sk-container-id-1 div.sk-container {/* jupyter's `normalize.less` sets `[hidden] { display: none; }` but bootstrap.min.css set `[hidden] { display: none !important; }` so we also need the `!important` here to be able to override the default hidden behavior on the sphinx rendered scikit-learn.org. See: https://github.com/scikit-learn/scikit-learn/issues/21755 */display: inline-block !important;position: relative;}#sk-container-id-1 div.sk-text-repr-fallback {display: none;}</style><div id=\"sk-container-id-1\" class=\"sk-top-container\"><div class=\"sk-text-repr-fallback\"><pre>KNeighborsClassifier(n_neighbors=1)</pre><b>In a Jupyter environment, please rerun this cell to show the HTML representation or trust the notebook. <br />On GitHub, the HTML representation is unable to render, please try loading this page with nbviewer.org.</b></div><div class=\"sk-container\" hidden><div class=\"sk-item\"><div class=\"sk-estimator sk-toggleable\"><input class=\"sk-toggleable__control sk-hidden--visually\" id=\"sk-estimator-id-1\" type=\"checkbox\" checked><label for=\"sk-estimator-id-1\" class=\"sk-toggleable__label sk-toggleable__label-arrow\">KNeighborsClassifier</label><div class=\"sk-toggleable__content\"><pre>KNeighborsClassifier(n_neighbors=1)</pre></div></div></div></div></div>"
            ]
          },
          "metadata": {},
          "execution_count": 12
        }
      ],
      "source": [
        "from sklearn.neighbors import KNeighborsClassifier\n",
        "\n",
        "# Create a KNeighborsClassifier with one nearest neighbor\n",
        "knn = KNeighborsClassifier(n_neighbors=1)\n",
        "\n",
        "# Fit the classifier to the training data\n",
        "knn.fit(X_train, y_train)\n",
        "\n"
      ]
    },
    {
      "cell_type": "markdown",
      "metadata": {
        "id": "HoXMuj4wC0zc"
      },
      "source": [
        "### Question 6\n",
        "Using your knn classifier, predict the class label using the mean value for each feature.\n",
        "\n",
        "Hint: You can use `cancerdf.mean()[:-1].values.reshape(1, -1)` which gets the mean value for each feature, ignores the target column, and reshapes the data from 1 dimension to 2 (necessary for the precict method of KNeighborsClassifier).\n",
        "\n",
        "*This function should return a numpy array either `array([ 0.])` or `array([ 1.])`*"
      ]
    },
    {
      "cell_type": "code",
      "execution_count": 2,
      "metadata": {
        "colab": {
          "base_uri": "https://localhost:8080/"
        },
        "id": "gjH8ooCYC0zc",
        "outputId": "bb199587-315a-4c17-8a73-e3f873c0210c"
      },
      "outputs": [
        {
          "output_type": "stream",
          "name": "stderr",
          "text": [
            "/usr/local/lib/python3.10/dist-packages/sklearn/base.py:439: UserWarning: X does not have valid feature names, but KNeighborsClassifier was fitted with feature names\n",
            "  warnings.warn(\n"
          ]
        },
        {
          "output_type": "stream",
          "name": "stdout",
          "text": [
            "[1]\n"
          ]
        }
      ],
      "source": [
        "import pandas as pd\n",
        "from sklearn.datasets import load_breast_cancer\n",
        "from sklearn.neighbors import KNeighborsClassifier\n",
        "\n",
        "# Load the breast cancer dataset\n",
        "cancer = load_breast_cancer()\n",
        "cancer_df = pd.DataFrame(data=cancer.data, columns=cancer.feature_names)\n",
        "cancer_df['target'] = cancer.target\n",
        "\n",
        "# Split the data into X (features) and y (labels)\n",
        "X = cancer_df.drop('target', axis=1)\n",
        "y = cancer_df['target']\n",
        "\n",
        "# Create and fit the KNeighborsClassifier\n",
        "knn = KNeighborsClassifier(n_neighbors=1)\n",
        "knn.fit(X, y)\n",
        "\n",
        "# Calculate the mean value for each feature, ignoring the target column\n",
        "mean_values = cancer_df.mean()[:-1].values.reshape(1, -1)\n",
        "\n",
        "# Predict the class label using the knn classifier\n",
        "prediction = knn.predict(mean_values)\n",
        "\n",
        "# Display the prediction\n",
        "print(prediction)\n",
        "\n"
      ]
    },
    {
      "cell_type": "markdown",
      "metadata": {
        "id": "GDBuQAuqC0zc"
      },
      "source": [
        "### Question 7\n",
        "Using your knn classifier, predict the class labels for the test set `X_test`.\n",
        "\n",
        "*This function should return a numpy array with shape `(143,)` and values either `0.0` or `1.0`.*"
      ]
    },
    {
      "cell_type": "code",
      "execution_count": 4,
      "metadata": {
        "colab": {
          "base_uri": "https://localhost:8080/"
        },
        "id": "KWO3LFNCC0zd",
        "outputId": "2b660f3e-edb2-4c76-c728-847a2fb704d1"
      },
      "outputs": [
        {
          "output_type": "stream",
          "name": "stdout",
          "text": [
            "(143,)\n",
            "[1 0 0 1 1 0 0 0 1 1 1 0 1 1 1 0 1 1 1 0 1 1 0 1 1 1 1 1 1 0 1 1 1 0 1 1 0\n",
            " 1 0 1 1 0 1 1 1 1 1 1 1 1 0 0 1 1 1 1 1 0 1 1 1 0 0 1 1 1 0 0 1 1 0 0 1 1\n",
            " 1 1 1 1 1 1 0 1 1 0 0 0 0 0 1 1 1 1 1 1 1 1 0 0 1 0 0 1 0 0 1 1 1 0 1 1 0\n",
            " 1 0 0 1 0 1 1 1 0 1 1 1 0 1 0 0 1 1 0 0 0 0 1 0 0 1 1 1 0 1 0 1]\n"
          ]
        }
      ],
      "source": [
        "from sklearn.model_selection import train_test_split\n",
        "from sklearn.neighbors import KNeighborsClassifier\n",
        "\n",
        "# Split the data into training and test sets\n",
        "X_train, X_test, y_train, y_test = train_test_split(X, y, test_size=0.25, random_state=42)\n",
        "\n",
        "# Create and fit the KNeighborsClassifier\n",
        "knn = KNeighborsClassifier(n_neighbors=1)\n",
        "knn.fit(X_train, y_train)\n",
        "\n",
        "# Predict the class labels for the test set X_test\n",
        "y_pred = knn.predict(X_test)\n",
        "\n",
        "# Display the shape of the prediction\n",
        "print(y_pred.shape)\n",
        "\n",
        "# Display the prediction values\n",
        "print(y_pred)\n",
        "\n"
      ]
    },
    {
      "cell_type": "markdown",
      "metadata": {
        "id": "6Q3zefvwC0zd"
      },
      "source": [
        "### Question 8\n",
        "Find the score (mean accuracy) of your knn classifier using `X_test` and `y_test`.\n",
        "\n",
        "*This function should return a float between 0 and 1*"
      ]
    },
    {
      "cell_type": "code",
      "execution_count": 6,
      "metadata": {
        "colab": {
          "base_uri": "https://localhost:8080/"
        },
        "id": "onatcixIC0zd",
        "outputId": "908137ab-11b4-481a-f458-39e2e3b28439"
      },
      "outputs": [
        {
          "output_type": "stream",
          "name": "stdout",
          "text": [
            "0.9300699300699301\n"
          ]
        }
      ],
      "source": [
        "# Calculate the mean accuracy of the KNN classifier on the test set\n",
        "accuracy = knn.score(X_test, y_test)\n",
        "\n",
        "# Display the mean accuracy\n",
        "print(accuracy)\n",
        "\n"
      ]
    },
    {
      "cell_type": "markdown",
      "metadata": {
        "id": "3xV1Kd7BC0zd"
      },
      "source": [
        "### Optional plot\n",
        "\n",
        "Try using the plotting function below to visualize the differet predicition scores between training and test sets, as well as malignant and benign cells."
      ]
    },
    {
      "cell_type": "code",
      "execution_count": 8,
      "metadata": {
        "id": "_ZdCSEpbC0ze"
      },
      "outputs": [],
      "source": [
        "def accuracy_plot():\n",
        "    import matplotlib.pyplot as plt\n",
        "\n",
        "    %matplotlib notebook\n",
        "\n",
        "    X_train, X_test, y_train, y_test = answer_four()\n",
        "\n",
        "    # Find the training and testing accuracies by target value (i.e. malignant, benign)\n",
        "    mal_train_X = X_train[y_train==0]\n",
        "    mal_train_y = y_train[y_train==0]\n",
        "    ben_train_X = X_train[y_train==1]\n",
        "    ben_train_y = y_train[y_train==1]\n",
        "\n",
        "    mal_test_X = X_test[y_test==0]\n",
        "    mal_test_y = y_test[y_test==0]\n",
        "    ben_test_X = X_test[y_test==1]\n",
        "    ben_test_y = y_test[y_test==1]\n",
        "\n",
        "    knn = answer_five()\n",
        "\n",
        "    scores = [knn.score(mal_train_X, mal_train_y), knn.score(ben_train_X, ben_train_y),\n",
        "              knn.score(mal_test_X, mal_test_y), knn.score(ben_test_X, ben_test_y)]\n",
        "\n",
        "\n",
        "    plt.figure()\n",
        "\n",
        "    # Plot the scores as a bar chart\n",
        "    bars = plt.bar(np.arange(4), scores, color=['#4c72b0','#4c72b0','#55a868','#55a868'])\n",
        "\n",
        "    # directly label the score onto the bars\n",
        "    for bar in bars:\n",
        "        height = bar.get_height()\n",
        "        plt.gca().text(bar.get_x() + bar.get_width()/2, height*.90, '{0:.{1}f}'.format(height, 2),\n",
        "                     ha='center', color='w', fontsize=11)\n",
        "\n",
        "    # remove all the ticks (both axes), and tick labels on the Y axis\n",
        "    plt.tick_params(top='off', bottom='off', left='off', right='off', labelleft='off', labelbottom='on')\n",
        "\n",
        "    # remove the frame of the chart\n",
        "    for spine in plt.gca().spines.values():\n",
        "        spine.set_visible(False)\n",
        "\n",
        "    plt.xticks([0,1,2,3], ['Malignant\\nTraining', 'Benign\\nTraining', 'Malignant\\nTest', 'Benign\\nTest'], alpha=0.8);\n",
        "    plt.title('Training and Test Accuracies for Malignant and Benign Cells', alpha=0.8)"
      ]
    },
    {
      "cell_type": "code",
      "execution_count": 7,
      "metadata": {
        "colab": {
          "base_uri": "https://localhost:8080/",
          "height": 452
        },
        "id": "MUA73DnsC0ze",
        "outputId": "7dd21b2a-efe7-4988-8024-063ead9eece5"
      },
      "outputs": [
        {
          "output_type": "display_data",
          "data": {
            "text/plain": [
              "<Figure size 640x480 with 1 Axes>"
            ],
            "image/png": "[encoded data removed]"
          },
          "metadata": {}
        }
      ],
      "source": [
        "import matplotlib.pyplot as plt\n",
        "import numpy as np\n",
        "\n",
        "def accuracy_plot(knn, X_train, y_train, X_test, y_test):\n",
        "    # Find the training and testing accuracies by target value (i.e., malignant, benign)\n",
        "    mal_train_X = X_train[y_train == 0]\n",
        "    mal_train_y = y_train[y_train == 0]\n",
        "    ben_train_X = X_train[y_train == 1]\n",
        "    ben_train_y = y_train[y_train == 1]\n",
        "\n",
        "    mal_test_X = X_test[y_test == 0]\n",
        "    mal_test_y = y_test[y_test == 0]\n",
        "    ben_test_X = X_test[y_test == 1]\n",
        "    ben_test_y = y_test[y_test == 1]\n",
        "\n",
        "    scores = [\n",
        "        knn.score(mal_train_X, mal_train_y),\n",
        "        knn.score(ben_train_X, ben_train_y),\n",
        "        knn.score(mal_test_X, mal_test_y),\n",
        "        knn.score(ben_test_X, ben_test_y)\n",
        "    ]\n",
        "\n",
        "    plt.figure()\n",
        "\n",
        "    # Plot the scores as a bar chart\n",
        "    bars = plt.bar(np.arange(4), scores, color=['#4c72b0', '#4c72b0', '#55a868', '#55a868'])\n",
        "\n",
        "    # Directly label the score onto the bars\n",
        "    for bar in bars:\n",
        "        height = bar.get_height()\n",
        "        plt.gca().text(\n",
        "            bar.get_x() + bar.get_width() / 2,\n",
        "            height * 0.90,\n",
        "            '{0:.{1}f}'.format(height, 2),\n",
        "            ha='center',\n",
        "            color='w',\n",
        "            fontsize=11\n",
        "        )\n",
        "\n",
        "    plt.xticks([0, 1, 2, 3], ['Malignant Training', 'Benign Training', 'Malignant Test', 'Benign Test'], alpha=0.8)\n",
        "    plt.title('Training and Test Accuracies for Malignant and Benign Cells', alpha=0.8)\n",
        "    plt.show()\n",
        "\n",
        "\n",
        "knn_classifier = knn  # Replace with your trained KNN classifier\n",
        "accuracy_plot(knn_classifier, X_train, y_train, X_test, y_test)\n"
      ]
    },
    {
      "cell_type": "code",
      "execution_count": null,
      "metadata": {
        "collapsed": true,
        "id": "oyiBJIN2C0ze"
      },
      "outputs": [],
      "source": []
    }
  ],
  "metadata": {
    "coursera": {
      "course_slug": "python-machine-learning",
      "graded_item_id": "f9SY5",
      "launcher_item_id": "oxndk",
      "part_id": "mh1Vo"
    },
    "kernelspec": {
      "display_name": "Python 3",
      "language": "python",
      "name": "python3"
    },
    "language_info": {
      "codemirror_mode": {
        "name": "ipython",
        "version": 3
      },
      "file_extension": ".py",
      "mimetype": "text/x-python",
      "name": "python",
      "nbconvert_exporter": "python",
      "pygments_lexer": "ipython3",
      "version": "3.11.5"
    },
    "colab": {
      "provenance": [],
      "include_colab_link": true
    }
  },
  "nbformat": 4,
  "nbformat_minor": 0
}